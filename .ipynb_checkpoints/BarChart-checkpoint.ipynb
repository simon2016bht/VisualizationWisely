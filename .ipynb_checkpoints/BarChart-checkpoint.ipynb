{
 "cells": [
  {
   "cell_type": "markdown",
   "metadata": {
    "colab_type": "text",
    "id": "view-in-github"
   },
   "source": [
    "<a href=\"https://colab.research.google.com/github/simon2016bht/PlotWisely/blob/main/BarChart.ipynb\" target=\"_parent\"><img src=\"https://colab.research.google.com/assets/colab-badge.svg\" alt=\"Open In Colab\"/></a>"
   ]
  },
  {
   "cell_type": "markdown",
   "metadata": {
    "id": "Ld2ennwzQruY"
   },
   "source": [
    "Reference:\n",
    "\n",
    "- Radovan Kavicky/2022-07-01 Making Economist Style Plots in Matplotlib\n",
    "\n",
    "- Economist\n",
    "\n",
    "- Storytelling with Data: A Data Visualization Guide for Business Professionals 1st Edition\n",
    "by Cole Nussbaumer Knaflic\n",
    "\n",
    "- Matplotlib API Reference"
   ]
  },
  {
   "cell_type": "code",
   "execution_count": 9,
   "metadata": {
    "colab": {
     "base_uri": "https://localhost:8080/",
     "height": 262
    },
    "id": "1xPtUT8gKYHt",
    "outputId": "2db84801-c2b1-42a2-814a-35e675289038"
   },
   "outputs": [],
   "source": [
    "import pandas as pd\n",
    "import numpy as np\n",
    "import matplotlib.pyplot as plt\n",
    "\n",
    "# This makes out plots higher resolution, which makes them easier to see while building\n",
    "plt.rcParams['figure.dpi'] = 100\n",
    "gdp = pd.read_csv('assets/gdp_1960_2020.csv') #https://www.kaggle.com/holoong9291/gdp-of-all-countries19602020/version/3\n",
    "gdp['gdp_trillions'] = gdp['gdp'] / 1_000_000_000_000\n",
    "#gdp.head()\n",
    "# gdp[gdp['year'] == 2020].sort_values(by='gdp_trillions')[gdp['state'] == 'Asia'].tail()"
   ]
  },
  {
   "cell_type": "markdown",
   "metadata": {
    "id": "zEBYc1uYTayY"
   },
   "source": [
    "## Bar chart"
   ]
  },
  {
   "cell_type": "code",
   "execution_count": 19,
   "metadata": {
    "colab": {
     "base_uri": "https://localhost:8080/",
     "height": 1000
    },
    "id": "19owdLoJLU1C",
    "outputId": "55527c42-d543-4e6d-816a-aa53f84e1ada"
   },
   "outputs": [
    {
     "name": "stderr",
     "output_type": "stream",
     "text": [
      "C:\\Users\\Simon\\AppData\\Local\\Temp\\ipykernel_16420\\417590435.py:17: UserWarning: Boolean Series key will be reindexed to match DataFrame index.\n",
      "  gdp_bar = gdp[gdp['year'] == 2020].sort_values(by='gdp_trillions')[gdp['state'] == 'Asia'][-6:]\n",
      "C:\\Users\\Simon\\AppData\\Local\\Temp\\ipykernel_16420\\417590435.py:35: UserWarning: set_ticklabels() should only be used with a fixed number of ticks, i.e. after set_ticks() or using a FixedLocator.\n",
      "  ax.set_yticklabels(gdp_bar['country'],      # Set labels again\n"
     ]
    },
    {
     "data": {
      "text/plain": [
       "Text(-0.35, 0.08, 'Source: \"GDP of all countries(1960-2020)\" via Kaggle.com')"
      ]
     },
     "execution_count": 19,
     "metadata": {},
     "output_type": "execute_result"
    },
    {
     "data": {
      "image/png": "[encoded data removed]",
      "text/plain": [
       "<Figure size 700x400 with 1 Axes>"
      ]
     },
     "metadata": {},
     "output_type": "display_data"
    }
   ],
   "source": [
    "# Setup plot size.\n",
    "fig, ax = plt.subplots(figsize=(7,4))\n",
    "\n",
    "# Create grid\n",
    "# Zorder tells it which layer to put it on. We are setting this to 1 and our data to 2 so the grid is behind the data.\n",
    "ax.grid(which=\"major\", axis='x', color='#758D99', alpha=0.6, zorder=1)\n",
    "\n",
    "# Remove splines. Can be done one at a time or can slice with a list.\n",
    "ax.spines[['top','right','bottom']].set_visible(False)\n",
    "\n",
    "# Make left spine slightly thicker\n",
    "ax.spines['left'].set_linewidth(1.1)\n",
    "\n",
    "# Setup data\n",
    "#gdp['country'] = gdp['country'].replace('the United States', 'United States')\n",
    "#gdp_bar = gdp[gdp['year'] == 2020].sort_values(by='gdp_trillions')[-9:]\n",
    "gdp_bar = gdp[gdp['year'] == 2020].sort_values(by='gdp_trillions')[gdp['state'] == 'Asia'][-6:]\n",
    "\n",
    "\n",
    "# Plot data\n",
    "ax.barh(gdp_bar['country'], gdp_bar['gdp_trillions'], color='#006BA2', zorder=2)\n",
    "\n",
    "# Set custom labels for x-axis\n",
    "ax.set_xticks([0, 5, 10, 15, 20])\n",
    "ax.set_xticklabels([0, 5, 10, 15, 20])\n",
    "\n",
    "# Reformat x-axis tick labels\n",
    "ax.xaxis.set_tick_params(labeltop=True,      # Put x-axis labels on top\n",
    "                         labelbottom=False,  # Set no x-axis labels on bottom\n",
    "                         bottom=False,       # Set no ticks on bottom\n",
    "                         labelsize=11,       # Set tick label size\n",
    "                         pad=-1)             # Lower tick labels a bit\n",
    "\n",
    "# Reformat y-axis tick labels\n",
    "ax.set_yticklabels(gdp_bar['country'],      # Set labels again\n",
    "                   ha = 'left')              # Set horizontal alignment to left\n",
    "ax.yaxis.set_tick_params(pad=100,            # Pad tick labels so they don't go over y-axis\n",
    "                         labelsize=11,       # Set label size\n",
    "                         bottom=False)       # Set no ticks on bottom/left\n",
    "\n",
    "# Shrink y-lim to make plot a bit tighter\n",
    "ax.set_ylim(-0.5, 5.5)\n",
    "\n",
    "# Add in line and tag\n",
    "ax.plot([-.35, .87],                 # Set width of line\n",
    "        [1.02, 1.02],                # Set height of line\n",
    "        transform=fig.transFigure,   # Set location relative to plot\n",
    "        clip_on=False,\n",
    "        color='#E3120B',\n",
    "        linewidth=.6)\n",
    "# ax.add_patch(plt.Rectangle((-.35,1.02),                # Set location of rectangle by lower left corder\n",
    "#                            0.12,                       # Width of rectangle\n",
    "#                            -0.02,                      # Height of rectangle. Negative so it goes down.\n",
    "#                            facecolor='#E3120B',\n",
    "#                            transform=fig.transFigure,\n",
    "#                            clip_on=False,\n",
    "#                            linewidth = 0))\n",
    "\n",
    "# Add in title and subtitle\n",
    "ax.text(x=-.35, y=.96, s=\"The big one\", transform=fig.transFigure, ha='left', fontsize=13, weight='bold', alpha=.8)\n",
    "ax.text(x=-.35, y=.925, s=\"2020 GDP, trillions of USD\", transform=fig.transFigure, ha='left', fontsize=11, alpha=.8)\n",
    "\n",
    "# Set source text\n",
    "ax.text(x=-.35, y=.08, s=\"\"\"Source: \"GDP of all countries(1960-2020)\" via Kaggle.com\"\"\", transform=fig.transFigure, ha='left', fontsize=9, alpha=.7)\n"
   ]
  },
  {
   "cell_type": "code",
   "execution_count": null,
   "metadata": {
    "id": "Wum1fns0Tzzq"
   },
   "outputs": [],
   "source": []
  },
  {
   "cell_type": "code",
   "execution_count": null,
   "metadata": {},
   "outputs": [],
   "source": []
  }
 ],
 "metadata": {
  "colab": {
   "authorship_tag": "ABX9TyMiMRPdWA1WvtDz61JUVJPs",
   "include_colab_link": true,
   "provenance": []
  },
  "kernelspec": {
   "display_name": "Python 3 (ipykernel)",
   "language": "python",
   "name": "python3"
  },
  "language_info": {
   "codemirror_mode": {
    "name": "ipython",
    "version": 3
   },
   "file_extension": ".py",
   "mimetype": "text/x-python",
   "name": "python",
   "nbconvert_exporter": "python",
   "pygments_lexer": "ipython3",
   "version": "3.12.0"
  }
 },
 "nbformat": 4,
 "nbformat_minor": 4
}
