{
 "cells": [
  {
   "cell_type": "markdown",
   "metadata": {
    "colab_type": "text",
    "id": "view-in-github"
   },
   "source": [
    "<a href=\"https://colab.research.google.com/github/simon2016bht/PlotWisely/blob/main/DumbbellChart.ipynb\" target=\"_parent\"><img src=\"https://colab.research.google.com/assets/colab-badge.svg\" alt=\"Open In Colab\"/></a>"
   ]
  },
  {
   "cell_type": "markdown",
   "metadata": {
    "id": "Ld2ennwzQruY"
   },
   "source": [
    "Reference:\n",
    "\n",
    "- Robert Ritz/2022-01-26 Making Economist Style Plots in Matplotlib\n",
    "\n",
    "- Economist\n",
    "\n",
    "- Storytelling with Data: A Data Visualization Guide for Business Professionals 1st Edition\n",
    "by Cole Nussbaumer Knaflic\n",
    "\n",
    "- Matplotlib API Reference"
   ]
  },
  {
   "cell_type": "code",
   "execution_count": 7,
   "metadata": {
    "colab": {
     "base_uri": "https://localhost:8080/",
     "height": 262
    },
    "id": "1xPtUT8gKYHt",
    "outputId": "dc18f3cf-493d-4857-b0db-230ab160b645"
   },
   "outputs": [],
   "source": [
    "import pandas as pd\n",
    "import numpy as np\n",
    "import matplotlib.pyplot as plt\n",
    "\n",
    "# This makes out plots higher resolution, which makes them easier to see while building\n",
    "plt.rcParams['figure.dpi'] = 100\n",
    "gdp = pd.read_csv('assets/gdp_1960_2020.csv') #https://www.kaggle.com/holoong9291/gdp-of-all-countries19602020/version/3\n",
    "gdp['gdp_trillions'] = gdp['gdp'] / 1_000_000_000_000\n",
    "#gdp.head()\n",
    "# gdp[gdp['year'] == 2020].sort_values(by='gdp_trillions')[gdp['state'] == 'Asia'].tail()"
   ]
  },
  {
   "cell_type": "markdown",
   "metadata": {
    "id": "HjxUgXHZTgET"
   },
   "source": [
    "## Dumbbell chart\n"
   ]
  },
  {
   "cell_type": "code",
   "execution_count": 3,
   "metadata": {
    "colab": {
     "base_uri": "https://localhost:8080/",
     "height": 206
    },
    "id": "AThdBMqKS_M_",
    "outputId": "1bb2c852-712e-48f7-f887-d064f0ca46f5"
   },
   "outputs": [
    {
     "data": {
      "text/html": [
       "<div>\n",
       "<style scoped>\n",
       "    .dataframe tbody tr th:only-of-type {\n",
       "        vertical-align: middle;\n",
       "    }\n",
       "\n",
       "    .dataframe tbody tr th {\n",
       "        vertical-align: top;\n",
       "    }\n",
       "\n",
       "    .dataframe thead th {\n",
       "        text-align: right;\n",
       "    }\n",
       "</style>\n",
       "<table border=\"1\" class=\"dataframe\">\n",
       "  <thead>\n",
       "    <tr style=\"text-align: right;\">\n",
       "      <th></th>\n",
       "      <th>year</th>\n",
       "      <th>rank</th>\n",
       "      <th>country</th>\n",
       "      <th>state</th>\n",
       "      <th>gdp</th>\n",
       "      <th>gdp_percent</th>\n",
       "      <th>gdp_trillions</th>\n",
       "    </tr>\n",
       "  </thead>\n",
       "  <tbody>\n",
       "    <tr>\n",
       "      <th>31</th>\n",
       "      <td>1960</td>\n",
       "      <td>32</td>\n",
       "      <td>South Korea</td>\n",
       "      <td>Asia</td>\n",
       "      <td>3958190758</td>\n",
       "      <td>0.003413</td>\n",
       "      <td>0.003958</td>\n",
       "    </tr>\n",
       "    <tr>\n",
       "      <th>7</th>\n",
       "      <td>1960</td>\n",
       "      <td>8</td>\n",
       "      <td>India</td>\n",
       "      <td>Asia</td>\n",
       "      <td>37029883875</td>\n",
       "      <td>0.031931</td>\n",
       "      <td>0.037030</td>\n",
       "    </tr>\n",
       "    <tr>\n",
       "      <th>6</th>\n",
       "      <td>1960</td>\n",
       "      <td>7</td>\n",
       "      <td>Italy</td>\n",
       "      <td>Europe</td>\n",
       "      <td>40385288344</td>\n",
       "      <td>0.034824</td>\n",
       "      <td>0.040385</td>\n",
       "    </tr>\n",
       "    <tr>\n",
       "      <th>5</th>\n",
       "      <td>1960</td>\n",
       "      <td>6</td>\n",
       "      <td>Canada</td>\n",
       "      <td>America</td>\n",
       "      <td>40461721692</td>\n",
       "      <td>0.034890</td>\n",
       "      <td>0.040462</td>\n",
       "    </tr>\n",
       "    <tr>\n",
       "      <th>3</th>\n",
       "      <td>1960</td>\n",
       "      <td>4</td>\n",
       "      <td>China</td>\n",
       "      <td>Asia</td>\n",
       "      <td>59716467625</td>\n",
       "      <td>0.051493</td>\n",
       "      <td>0.059716</td>\n",
       "    </tr>\n",
       "  </tbody>\n",
       "</table>\n",
       "</div>"
      ],
      "text/plain": [
       "    year  rank      country    state          gdp  gdp_percent  gdp_trillions\n",
       "31  1960    32  South Korea     Asia   3958190758     0.003413       0.003958\n",
       "7   1960     8        India     Asia  37029883875     0.031931       0.037030\n",
       "6   1960     7        Italy   Europe  40385288344     0.034824       0.040385\n",
       "5   1960     6       Canada  America  40461721692     0.034890       0.040462\n",
       "3   1960     4        China     Asia  59716467625     0.051493       0.059716"
      ]
     },
     "execution_count": 3,
     "metadata": {},
     "output_type": "execute_result"
    }
   ],
   "source": [
    "countries = gdp[gdp['year'] == 2020].sort_values(by='gdp_trillions')[-9:]['country'].values\n",
    "gdp_dumbbell = gdp[(gdp['country'].isin(countries)) & ((gdp['year'] == 1960) | (gdp['year'] == 2020))].sort_values(by='gdp')\n",
    "gdp_dumbbell.head(5)\n"
   ]
  },
  {
   "cell_type": "code",
   "execution_count": 6,
   "metadata": {
    "colab": {
     "base_uri": "https://localhost:8080/",
     "height": 565
    },
    "id": "AenUH9vCTjdt",
    "outputId": "31720fa8-2d90-4e02-cf1f-7b215c4a8394"
   },
   "outputs": [
    {
     "name": "stderr",
     "output_type": "stream",
     "text": [
      "C:\\Users\\Simon\\AppData\\Local\\Temp\\ipykernel_3572\\3048802579.py:34: UserWarning: set_ticklabels() should only be used with a fixed number of ticks, i.e. after set_ticks() or using a FixedLocator.\n",
      "  ax.set_yticklabels(gdp_dumbbell.index,       # Set labels again\n"
     ]
    },
    {
     "data": {
      "text/plain": [
       "Text(-0.08, 0.04, 'Source: \"GDP of all countries(1960-2020)\" via Kaggle.com')"
      ]
     },
     "execution_count": 6,
     "metadata": {},
     "output_type": "execute_result"
    },
    {
     "data": {
      "image/png": "[encoded data removed]",
      "text/plain": [
       "<Figure size 700x400 with 1 Axes>"
      ]
     },
     "metadata": {},
     "output_type": "display_data"
    }
   ],
   "source": [
    "# Setup plot size.\n",
    "fig, ax = plt.subplots(figsize=(7,4))\n",
    "\n",
    "# Create grid\n",
    "# Zorder tells it which layer to put it on. We are setting this to 1 and our data to 2 so the grid is behind the data.\n",
    "ax.grid(which=\"major\", axis='both', color='#758D99', alpha=0.6, zorder=1)\n",
    "\n",
    "# Remove splines. Can be done one at a time or can slice with a list.\n",
    "ax.spines[['top','right','bottom']].set_visible(False)\n",
    "\n",
    "# Setup data\n",
    "gdp_dumbbell = (gdp[(gdp['country'].isin(countries)) & ((gdp['year'] == 2000) | (gdp['year'] == 2020))][['year','gdp_trillions','country']]\n",
    "                .pivot(index='country',columns='year', values='gdp_trillions')\n",
    "                .sort_values(by=2020))\n",
    "\n",
    "# Plot data\n",
    "# Plot horizontal lines first\n",
    "ax.hlines(y=gdp_dumbbell.index, xmin=gdp_dumbbell[2000], xmax=gdp_dumbbell[2020], color='#758D99', zorder=2, linewidth=2, label='_nolegend_', alpha=.8)\n",
    "# Plot bubbles next\n",
    "ax.scatter(gdp_dumbbell[2000], gdp_dumbbell.index, label='2000', s=60, color='#DB444B', zorder=3)\n",
    "ax.scatter(gdp_dumbbell[2020], gdp_dumbbell.index, label='2020', s=60, color='#006BA2', zorder=3)\n",
    "\n",
    "# Set xlim\n",
    "ax.set_xlim(0, 25.05)\n",
    "\n",
    "# Reformat x-axis tick labels\n",
    "ax.xaxis.set_tick_params(labeltop=True,      # Put x-axis labels on top\n",
    "                         labelbottom=False,  # Set no x-axis labels on bottom\n",
    "                         bottom=False,       # Set no ticks on bottom\n",
    "                         labelsize=11,       # Set tick label size\n",
    "                         pad=-1)             # Lower tick labels a bit\n",
    "\n",
    "# Reformat y-axis tick labels\n",
    "ax.set_yticklabels(gdp_dumbbell.index,       # Set labels again\n",
    "                   ha = 'left')              # Set horizontal alignment to left\n",
    "ax.yaxis.set_tick_params(pad=100,            # Pad tick labels so they don't go over y-axis\n",
    "                         labelsize=11,       # Set label size\n",
    "                         bottom=False)       # Set no ticks on bottom/left\n",
    "\n",
    "# Set Legend\n",
    "ax.legend(['2000', '2020'], loc=(-.29,1.09), ncol=2, frameon=False, handletextpad=-.1, handleheight=1)\n",
    "\n",
    "# Add in line and tag\n",
    "ax.plot([-0.08, .9],                 # Set width of line\n",
    "        [1.17, 1.17],                # Set height of line\n",
    "        transform=fig.transFigure,   # Set location relative to plot\n",
    "        clip_on=False,\n",
    "        color='#E3120B',\n",
    "        linewidth=.6)\n",
    "\n",
    "# ax.add_patch(plt.Rectangle((-0.08,1.17),               # Set location of rectangle by lower left corder\n",
    "#                            0.05,                       # Width of rectangle\n",
    "#                            -0.025,                      # Height of rectangle. Negative so it goes down.\n",
    "#                            facecolor='#E3120B',\n",
    "#                            transform=fig.transFigure,\n",
    "#                            clip_on=False,\n",
    "#                            linewidth = 0))\n",
    "\n",
    "# Add in title and subtitle\n",
    "ax.text(x=-0.08, y=1.09, s=\"Great expectations\", transform=fig.transFigure, ha='left', fontsize=13, weight='bold', alpha=.8)\n",
    "ax.text(x=-0.08, y=1.04, s=\"Top 9 countries by GDP, in trillions of USD\", transform=fig.transFigure, ha='left', fontsize=11, alpha=.8)\n",
    "\n",
    "# Set source text\n",
    "ax.text(x=-0.08, y=0.04, s=\"\"\"Source: \"GDP of all countries(1960-2020)\" via Kaggle.com\"\"\", transform=fig.transFigure, ha='left', fontsize=9, alpha=.7)\n",
    "\n",
    "#"
   ]
  },
  {
   "cell_type": "code",
   "execution_count": null,
   "metadata": {
    "id": "Wum1fns0Tzzq"
   },
   "outputs": [],
   "source": []
  },
  {
   "cell_type": "code",
   "execution_count": null,
   "metadata": {},
   "outputs": [],
   "source": []
  }
 ],
 "metadata": {
  "colab": {
   "authorship_tag": "ABX9TyP9sNAeHFDezgG+0uBLQwaU",
   "include_colab_link": true,
   "provenance": []
  },
  "kernelspec": {
   "display_name": "Python 3 (ipykernel)",
   "language": "python",
   "name": "python3"
  },
  "language_info": {
   "codemirror_mode": {
    "name": "ipython",
    "version": 3
   },
   "file_extension": ".py",
   "mimetype": "text/x-python",
   "name": "python",
   "nbconvert_exporter": "python",
   "pygments_lexer": "ipython3",
   "version": "3.12.0"
  }
 },
 "nbformat": 4,
 "nbformat_minor": 4
}
